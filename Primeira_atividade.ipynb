{
  "nbformat": 4,
  "nbformat_minor": 0,
  "metadata": {
    "colab": {
      "provenance": [],
      "authorship_tag": "ABX9TyPzKroBoEE3T8rsuGLK+9At",
      "include_colab_link": true
    },
    "kernelspec": {
      "name": "python3",
      "display_name": "Python 3"
    },
    "language_info": {
      "name": "python"
    }
  },
  "cells": [
    {
      "cell_type": "markdown",
      "metadata": {
        "id": "view-in-github",
        "colab_type": "text"
      },
      "source": [
        "<a href=\"https://colab.research.google.com/github/IuryCN/IuryCN/blob/main/Primeira_atividade.ipynb\" target=\"_parent\"><img src=\"https://colab.research.google.com/assets/colab-badge.svg\" alt=\"Open In Colab\"/></a>"
      ]
    },
    {
      "cell_type": "markdown",
      "source": [
        " - Utilize o comando 'input' para receber ao menos 2 números de entrada do usuário;\n",
        "\n",
        "- Converta os valores recebidos pelo usuário para número inteiro (int) ou ponto flutuante (float);\n",
        "\n",
        "- Implemente ao menos 4 operações matemáticas em seu código;\n",
        "\n",
        "- Adicione um laço de repetição ou uma condicional. Por exemplo: você pode permitir que o usuário escolha qual operação realizar ou criar um loop que permita ao usuário realizar várias operações consecutivas;\n",
        "\n",
        "- Utilize o comando 'print' para exibir o resultado da operação matemática."
      ],
      "metadata": {
        "id": "2OOy4dh9Bj8f"
      }
    },
    {
      "cell_type": "markdown",
      "source": [
        "## **CALCULADORA**"
      ],
      "metadata": {
        "id": "ZsJFfvrJUHm7"
      }
    },
    {
      "cell_type": "code",
      "source": [
        "\n",
        "while True:\n",
        "    num1 = float(input(\"\\nDigite o primeiro número: \"))\n",
        "    num2 = float(input(\"Digite o segundo número: \"))\n",
        "\n",
        "    print(\"\\nEscolha uma opção de 1 a 7:\")\n",
        "    print(\"1 - Soma\")\n",
        "    print(\"2 - Subtração\")\n",
        "    print(\"3 - Multiplicação\")\n",
        "    print(\"4 - Divisão\")\n",
        "    print(\"5 - Resto da divisão\")\n",
        "    print(\"6 - Potenciação\")\n",
        "    print(\"7 - Sair\")\n",
        "\n",
        "    opcao = input(\"Digite o número da operação desejada: \")\n",
        "\n",
        "    if opcao == \"1\":\n",
        "        print(\"Resultado da Soma:\", num1 + num2)\n",
        "    elif opcao == \"2\":\n",
        "        print(\"Resultado da Subtração:\", num1 - num2)\n",
        "    elif opcao == \"3\":\n",
        "        print(\"Resultado da Multiplicação:\", num1 * num2)\n",
        "    elif opcao == \"4\":\n",
        "        if num2 != 0:\n",
        "            print(\"Resultado da Divisão:\", num1 / num2)\n",
        "        else:\n",
        "            print(\"Erro! Não é possível dividir por zero.\")\n",
        "    elif opcao == \"5\":\n",
        "        if num2 != 0:\n",
        "            print(\"Resto da divisão:\", num1 % num2)\n",
        "        else:\n",
        "            print(\"Erro! Não é possível calcular o resto com divisor zero.\")\n",
        "    elif opcao == \"6\":\n",
        "        print(\"Resultado da Potenciação:\", num1 ** num2)\n",
        "    elif opcao == \"7\":\n",
        "        print(\"Saindo do programa...\")\n",
        "        break\n",
        "    else:\n",
        "        print(\"Opção inválida! Escolha um número de 1 a 7.\")"
      ],
      "metadata": {
        "colab": {
          "base_uri": "https://localhost:8080/"
        },
        "id": "cz62bofGfSHL",
        "outputId": "cab82152-1073-4640-d963-aca97dd79cb0"
      },
      "execution_count": null,
      "outputs": [
        {
          "output_type": "stream",
          "name": "stdout",
          "text": [
            "\n",
            "Digite o primeiro número: 45\n",
            "Digite o segundo número: 53\n",
            "\n",
            "Escolha uma opção de 1 a 7:\n",
            "1 - Soma\n",
            "2 - Subtração\n",
            "3 - Multiplicação\n",
            "4 - Divisão\n",
            "5 - Resto da divisão\n",
            "6 - Potenciação\n",
            "7 - Sair\n",
            "Digite o número da operação desejada: 3\n",
            "Resultado da Multiplicação: 2385.0\n",
            "\n",
            "Digite o primeiro número: 5\n",
            "Digite o segundo número: 5\n",
            "\n",
            "Escolha uma opção de 1 a 7:\n",
            "1 - Soma\n",
            "2 - Subtração\n",
            "3 - Multiplicação\n",
            "4 - Divisão\n",
            "5 - Resto da divisão\n",
            "6 - Potenciação\n",
            "7 - Sair\n",
            "Digite o número da operação desejada: 7\n",
            "Saindo do programa...\n"
          ]
        }
      ]
    }
  ]
}